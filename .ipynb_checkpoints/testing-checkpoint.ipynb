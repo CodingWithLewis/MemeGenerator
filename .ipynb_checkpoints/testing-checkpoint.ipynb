{
 "cells": [
  {
   "cell_type": "code",
   "execution_count": null,
   "id": "initial_id",
   "metadata": {
    "collapsed": true,
    "jupyter": {
     "outputs_hidden": true
    }
   },
   "outputs": [],
   "source": [
    "import json\n",
    "\n",
    "with open('../meme_photo_links.json', 'r') as f:\n",
    "    data = json.load(f)\n",
    "\n",
    "with open(\"../meme_entries.json\", 'r') as f:\n",
    "    memes = json.load(f)"
   ]
  },
  {
   "cell_type": "code",
   "execution_count": null,
   "id": "5e9fd5b240264d61",
   "metadata": {
    "collapsed": false,
    "jupyter": {
     "outputs_hidden": false
    }
   },
   "outputs": [],
   "source": [
    "len(data)\n"
   ]
  },
  {
   "cell_type": "code",
   "execution_count": 9,
   "id": "e97f0742e4b6bf36",
   "metadata": {
    "ExecuteTime": {
     "end_time": "2024-04-24T01:02:02.446342600Z",
     "start_time": "2024-04-24T01:02:02.369670200Z"
    },
    "collapsed": false,
    "jupyter": {
     "outputs_hidden": false
    }
   },
   "outputs": [
    {
     "ename": "KeyError",
     "evalue": "'posted_date'",
     "output_type": "error",
     "traceback": [
      "\u001b[0;31m---------------------------------------------------------------------------\u001b[0m",
      "\u001b[0;31mKeyError\u001b[0m                                  Traceback (most recent call last)",
      "Cell \u001b[0;32mIn[9], line 22\u001b[0m\n\u001b[1;32m     15\u001b[0m \u001b[38;5;28;01mwith\u001b[39;00m Session(engine) \u001b[38;5;28;01mas\u001b[39;00m session:\n\u001b[1;32m     16\u001b[0m     \u001b[38;5;28;01mfor\u001b[39;00m meme \u001b[38;5;129;01min\u001b[39;00m data:\n\u001b[1;32m     17\u001b[0m         meme_entry \u001b[38;5;241m=\u001b[39m MemeEntry(\n\u001b[1;32m     18\u001b[0m             \u001b[38;5;28mid\u001b[39m\u001b[38;5;241m=\u001b[39mmeme[\u001b[38;5;124m'\u001b[39m\u001b[38;5;124mid\u001b[39m\u001b[38;5;124m'\u001b[39m],\n\u001b[1;32m     19\u001b[0m             name\u001b[38;5;241m=\u001b[39mmeme[\u001b[38;5;124m'\u001b[39m\u001b[38;5;124mname\u001b[39m\u001b[38;5;124m'\u001b[39m],\n\u001b[1;32m     20\u001b[0m             url\u001b[38;5;241m=\u001b[39mmeme[\u001b[38;5;124m'\u001b[39m\u001b[38;5;124murl\u001b[39m\u001b[38;5;124m'\u001b[39m],\n\u001b[1;32m     21\u001b[0m             content\u001b[38;5;241m=\u001b[39mmeme[\u001b[38;5;124m'\u001b[39m\u001b[38;5;124mcontent\u001b[39m\u001b[38;5;124m'\u001b[39m],\n\u001b[0;32m---> 22\u001b[0m             meme_added\u001b[38;5;241m=\u001b[39m\u001b[43mmeme\u001b[49m\u001b[43m[\u001b[49m\u001b[38;5;124;43m'\u001b[39;49m\u001b[38;5;124;43mposted_date\u001b[39;49m\u001b[38;5;124;43m'\u001b[39;49m\u001b[43m]\u001b[49m,\n\u001b[1;32m     23\u001b[0m         )\n\u001b[1;32m     24\u001b[0m         session\u001b[38;5;241m.\u001b[39madd(meme_entry)\n\u001b[1;32m     26\u001b[0m     session\u001b[38;5;241m.\u001b[39mcommit()\n",
      "\u001b[0;31mKeyError\u001b[0m: 'posted_date'"
     ]
    }
   ],
   "source": [
    "\n",
    "from meme_database.models import MemeEntry, MemeImage\n",
    "from sqlalchemy.orm import Session\n",
    "from dotenv import load_dotenv\n",
    "from sqlalchemy import create_engine\n",
    "load_dotenv()\n",
    "\n",
    "import os\n",
    "import json\n",
    "\n",
    "\n",
    "engine = create_engine(os.getenv(\"NEON_POSTGRES\"), pool_pre_ping=True)\n",
    "with open(\"meme_entries.json\", \"r\") as f:\n",
    "    data = json.load(f)\n",
    "    \n",
    "with Session(engine) as session:\n",
    "    for meme in data:\n",
    "        meme_entry = MemeEntry(\n",
    "            id=meme['id'],\n",
    "            name=meme['name'],\n",
    "            url=meme['url'],\n",
    "            content=meme['content'],\n",
    "            meme_added=meme['meme_added'],\n",
    "        )\n",
    "        session.add(meme_entry)\n",
    "\n",
    "    session.commit()"
   ]
  },
  {
   "cell_type": "code",
   "execution_count": null,
   "id": "bc45dad096b8b7f",
   "metadata": {
    "collapsed": false,
    "jupyter": {
     "outputs_hidden": false
    }
   },
   "outputs": [],
   "source": []
  },
  {
   "cell_type": "code",
   "execution_count": null,
   "id": "2df7f17e4c98f746",
   "metadata": {
    "collapsed": false,
    "jupyter": {
     "outputs_hidden": false
    }
   },
   "outputs": [],
   "source": []
  }
 ],
 "metadata": {
  "kernelspec": {
   "display_name": "venv_kernel",
   "language": "python",
   "name": "venv_kernel"
  },
  "language_info": {
   "codemirror_mode": {
    "name": "ipython",
    "version": 3
   },
   "file_extension": ".py",
   "mimetype": "text/x-python",
   "name": "python",
   "nbconvert_exporter": "python",
   "pygments_lexer": "ipython3",
   "version": "3.10.12"
  }
 },
 "nbformat": 4,
 "nbformat_minor": 5
}
