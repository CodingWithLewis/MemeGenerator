{
 "cells": [
  {
   "cell_type": "code",
   "execution_count": null,
   "id": "initial_id",
   "metadata": {
    "collapsed": true,
    "jupyter": {
     "outputs_hidden": true
    }
   },
   "outputs": [],
   "source": [
    "import json\n",
    "\n",
    "with open('../meme_photo_links.json', 'r') as f:\n",
    "    data = json.load(f)\n",
    "\n",
    "with open(\"../meme_entries.json\", 'r') as f:\n",
    "    memes = json.load(f)"
   ]
  },
  {
   "cell_type": "code",
   "execution_count": null,
   "id": "5e9fd5b240264d61",
   "metadata": {
    "collapsed": false,
    "jupyter": {
     "outputs_hidden": false
    }
   },
   "outputs": [],
   "source": [
    "len(data)\n"
   ]
  },
  {
   "cell_type": "code",
   "execution_count": 11,
   "id": "e97f0742e4b6bf36",
   "metadata": {
    "ExecuteTime": {
     "end_time": "2024-04-24T01:02:02.446342600Z",
     "start_time": "2024-04-24T01:02:02.369670200Z"
    },
    "collapsed": false,
    "jupyter": {
     "outputs_hidden": false
    }
   },
   "outputs": [],
   "source": [
    "\n",
    "from meme_database.models import MemeEntry, MemeImage\n",
    "from sqlalchemy.orm import Session\n",
    "from dotenv import load_dotenv\n",
    "from sqlalchemy import create_engine\n",
    "load_dotenv()\n",
    "\n",
    "import os\n",
    "import json\n",
    "\n",
    "\n",
    "engine = create_engine(os.getenv(\"NEON_POSTGRES\"), pool_pre_ping=True)\n",
    "with open(\"meme_entries.json\", \"r\") as f:\n",
    "    data = json.load(f)\n",
    "    \n",
    "with Session(engine) as session:\n",
    "    for meme in data:\n",
    "        meme_entry = MemeEntry(\n",
    "            id=meme['id'],\n",
    "            name=meme['name'],\n",
    "            url=meme['url'],\n",
    "            content=meme['content'],\n",
    "            meme_added=meme['meme_added'],\n",
    "        )\n",
    "        session.add(meme_entry)\n",
    "\n",
    "    session.commit()"
   ]
  },
  {
   "cell_type": "code",
   "execution_count": 13,
   "id": "bc45dad096b8b7f",
   "metadata": {
    "collapsed": false,
    "jupyter": {
     "outputs_hidden": false
    }
   },
   "outputs": [
    {
     "data": {
      "text/plain": [
       "{'id': 'a03ad66e-592e-406d-8fce-509527292f92',\n",
       " 'source_url': 'https://i.kym-cdn.com/photos/images/original/000/817/071/bd5',\n",
       " 'meme_entry': 'a03ad66e-592e-406d-8fce-509527292f92'}"
      ]
     },
     "execution_count": 13,
     "metadata": {},
     "output_type": "execute_result"
    }
   ],
   "source": [
    "with open(\"meme_photo_links.json\", \"r\") as f:\n",
    "    photos = json.load(f)\n",
    "\n",
    "photos[0]"
   ]
  },
  {
   "cell_type": "code",
   "execution_count": null,
   "id": "2df7f17e4c98f746",
   "metadata": {
    "collapsed": false,
    "jupyter": {
     "outputs_hidden": false
    }
   },
   "outputs": [],
   "source": []
  }
 ],
 "metadata": {
  "kernelspec": {
   "display_name": "venv_kernel",
   "language": "python",
   "name": "venv_kernel"
  },
  "language_info": {
   "codemirror_mode": {
    "name": "ipython",
    "version": 3
   },
   "file_extension": ".py",
   "mimetype": "text/x-python",
   "name": "python",
   "nbconvert_exporter": "python",
   "pygments_lexer": "ipython3",
   "version": "3.10.12"
  }
 },
 "nbformat": 4,
 "nbformat_minor": 5
}
