{
 "cells": [
  {
   "cell_type": "code",
   "execution_count": 5,
   "id": "initial_id",
   "metadata": {
    "collapsed": true,
    "ExecuteTime": {
     "end_time": "2024-04-04T17:29:52.053989Z",
     "start_time": "2024-04-04T17:29:45.334972Z"
    }
   },
   "outputs": [],
   "source": [
    "from azure.storage.blob import BlobServiceClient, generate_blob_sas, BlobSasPermissions\n",
    "from datetime import datetime, timedelta\n",
    "import json\n",
    "\n",
    "# Initialize a BlobServiceClient\n",
    "connect_str = \"DefaultEndpointsProtocol=https;AccountName=aimemes;AccountKey=sgmw4f5fJMc0kIXueL0nONs6z1k8bMV/V82osrVLtwtdJl44AVt7Sjr42UcHSBwxuU93sH65cZqj+AStdhTOLg==;EndpointSuffix=core.windows.net\"\n",
    "blob_service_client = BlobServiceClient.from_connection_string(connect_str)\n",
    "\n",
    "# Name of your container\n",
    "container_name = 'memesimages'\n",
    "\n",
    "# Name of the folder you want to list items from\n",
    "folder_name = 'meme_images/'\n",
    "\n",
    "# Initialize a ContainerClient\n",
    "container_client = blob_service_client.get_container_client(container_name)\n",
    "\n",
    "# Generate a SAS token that expires in 10 years\n",
    "def generate_sas_for_blob(blob_name):\n",
    "    sas_token = generate_blob_sas(account_name=blob_service_client.account_name,\n",
    "                                   container_name=container_name,\n",
    "                                   blob_name=blob_name,\n",
    "                                   account_key=connect_str.split(\"AccountKey=\")[1].split(\";\")[0],\n",
    "                                   permission=BlobSasPermissions(read=True),\n",
    "                                   expiry=datetime.utcnow() + timedelta(days=365 * 10))  # 10 years\n",
    "    return sas_token\n",
    "\n",
    "# List all blobs in the folder and generate data for JSON\n",
    "json_data = []\n",
    "for blob in container_client.list_blobs(name_starts_with=folder_name):\n",
    "    sas_token = generate_sas_for_blob(blob.name)\n",
    "    blob_url_with_sas = f\"https://{blob_service_client.account_name}.blob.core.windows.net/{container_name}/{blob.name}?{sas_token}\"\n",
    "    data = {\n",
    "        \"data\": {\n",
    "            \"url\": blob_url_with_sas,\n",
    "            \"q1\": \"Describe why this meme is funny\",\n",
    "            \"q2\": \"Describe the metaphors in this meme\",\n",
    "            \"q3\": \"Give examples of a caption of this meme\"\n",
    "        }\n",
    "    }\n",
    "    json_data.append(data)\n",
    "\n",
    "# Write the data to a JSON file\n",
    "with open('meme_images.json', 'w') as f:\n",
    "    json.dump(json_data, f, indent=4)\n"
   ]
  },
  {
   "cell_type": "code",
   "execution_count": null,
   "outputs": [],
   "source": [],
   "metadata": {
    "collapsed": false
   },
   "id": "515572701968c984"
  }
 ],
 "metadata": {
  "kernelspec": {
   "display_name": "Python 3",
   "language": "python",
   "name": "python3"
  },
  "language_info": {
   "codemirror_mode": {
    "name": "ipython",
    "version": 2
   },
   "file_extension": ".py",
   "mimetype": "text/x-python",
   "name": "python",
   "nbconvert_exporter": "python",
   "pygments_lexer": "ipython2",
   "version": "2.7.6"
  }
 },
 "nbformat": 4,
 "nbformat_minor": 5
}
