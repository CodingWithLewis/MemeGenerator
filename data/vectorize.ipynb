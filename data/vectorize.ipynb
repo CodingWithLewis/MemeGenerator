{
 "cells": [
  {
   "cell_type": "code",
   "execution_count": 5,
   "id": "initial_id",
   "metadata": {
    "collapsed": true,
    "ExecuteTime": {
     "end_time": "2024-05-01T19:03:06.947778Z",
     "start_time": "2024-05-01T19:03:06.943289Z"
    }
   },
   "outputs": [
    {
     "data": {
      "text/plain": "True"
     },
     "execution_count": 5,
     "metadata": {},
     "output_type": "execute_result"
    }
   ],
   "source": [
    "from dotenv import load_dotenv\n",
    "import os\n",
    "\n",
    "load_dotenv()\n",
    "\n"
   ]
  },
  {
   "cell_type": "code",
   "execution_count": 5,
   "outputs": [],
   "source": [
    "import os\n",
    "import psycopg2\n",
    "from dotenv import load_dotenv\n",
    "\n",
    "# Load environment variables from .env file\n",
    "load_dotenv()\n",
    "\n",
    "\n",
    "# If connection_string is not directly provided above, \n",
    "# then check if DATABASE_URL is set in the environment or .env.\n",
    "\n",
    "connection_string = os.environ.get(\"NEON_DATABASE_CONNECTION_STRING\")\n",
    "\n",
    "# If neither method provides a connection string, raise an error.\n",
    "if not connection_string:\n",
    "    raise ValueError(\"Please provide a valid connection string either in the code or in the .env file as DATABASE_URL.\")\n",
    "\n",
    "# Connect using the connection string\n",
    "connection = psycopg2.connect(connection_string)\n",
    "\n",
    "# Create a new cursor object\n",
    "cursor = connection.cursor()"
   ],
   "metadata": {
    "collapsed": false,
    "ExecuteTime": {
     "end_time": "2024-05-01T20:17:02.144691Z",
     "start_time": "2024-05-01T20:17:01.314722Z"
    }
   },
   "id": "e823f15bc66dc58d"
  },
  {
   "cell_type": "code",
   "execution_count": 7,
   "outputs": [
    {
     "name": "stdout",
     "output_type": "stream",
     "text": [
      "Your database connection was successful!\n"
     ]
    }
   ],
   "source": [
    "# Execute this query to test the database connection\n",
    "cursor.execute(\"SELECT 1;\")\n",
    "result = cursor.fetchone()\n",
    "\n",
    "# Check the query result\n",
    "if result == (1,):\n",
    "    print(\"Your database connection was successful!\")\n",
    "else:\n",
    "    print(\"Your connection failed.\")\n",
    "    "
   ],
   "metadata": {
    "collapsed": false,
    "ExecuteTime": {
     "end_time": "2024-05-01T19:03:08.398882Z",
     "start_time": "2024-05-01T19:03:08.336141Z"
    }
   },
   "id": "d7753f0befc84de1"
  },
  {
   "cell_type": "code",
   "execution_count": 33,
   "outputs": [],
   "source": [
    "from sqlalchemy.orm import Session\n",
    "from meme_database.models import MemeEntry\n",
    "\n",
    "from sqlalchemy import create_engine, select\n",
    "\n",
    "# Create a new SQLAlchemy engine using the connection string\n",
    "engine = create_engine(connection_string)\n",
    "\n",
    "# Get all MemeEntry objects from the database\n",
    "with Session(engine) as session:\n",
    "    meme_entries = session.execute(select(MemeEntry)).scalars().all()\n"
   ],
   "metadata": {
    "collapsed": false,
    "ExecuteTime": {
     "end_time": "2024-05-01T19:24:18.778351Z",
     "start_time": "2024-05-01T19:23:53.797815Z"
    }
   },
   "id": "f7cf15bc05905a29"
  },
  {
   "cell_type": "code",
   "execution_count": 34,
   "outputs": [
    {
     "data": {
      "text/plain": "7147"
     },
     "execution_count": 34,
     "metadata": {},
     "output_type": "execute_result"
    }
   ],
   "source": [
    "len(meme_entries)"
   ],
   "metadata": {
    "collapsed": false,
    "ExecuteTime": {
     "end_time": "2024-05-01T19:24:21.149655Z",
     "start_time": "2024-05-01T19:24:21.146253Z"
    }
   },
   "id": "55832e1b0002455d"
  },
  {
   "cell_type": "code",
   "execution_count": 35,
   "outputs": [],
   "source": [
    "# Create a jsonl file\n",
    "'''\n",
    "{\"custom_id\": \"request-1\", \"method\": \"POST\", \"url\": \"/v1/chat/completions\", \"body\": {\"model\": \"gpt-3.5-turbo-0125\", \"messages\": [{\"role\": \"system\", \"content\": \"You are a helpful assistant.\"},{\"role\": \"user\", \"content\": \"Hello world!\"}],\"max_tokens\": 1000}}\n",
    "{\"custom_id\": \"request-2\", \"method\": \"POST\", \"url\": \"/v1/chat/completions\", \"body\": {\"model\": \"gpt-3.5-turbo-0125\", \"messages\": [{\"role\": \"system\", \"content\": \"You are an unhelpful assistant.\"},{\"role\": \"user\", \"content\": \"Hello world!\"}],\"max_tokens\": 1000}}\n",
    "'''\n",
    "import json\n",
    "\n",
    "with open(\"meme_entries.jsonl\", \"w\") as file:\n",
    "    \n",
    "    for meme in meme_entries:\n",
    "        json.dump({\n",
    "            \"custom_id\": str(meme.id),\n",
    "            \"method\": \"POST\",\n",
    "            \"url\": \"/v1/embeddings\",\n",
    "            \"body\": {\n",
    "                \"model\": \"text-embedding-3-small\",\n",
    "                \"input\": meme.content,\n",
    "                \"encoding_format\": \"float\"\n",
    "            }\n",
    "        }, file)\n",
    "        file.write(\"\\n\")"
   ],
   "metadata": {
    "collapsed": false,
    "ExecuteTime": {
     "end_time": "2024-05-01T19:24:36.941766Z",
     "start_time": "2024-05-01T19:24:36.680185Z"
    }
   },
   "id": "38e7639e237ea77a"
  },
  {
   "cell_type": "code",
   "execution_count": 16,
   "outputs": [],
   "source": [
    "# load jsonl file\n",
    "from sqlalchemy.orm import Session\n",
    "from meme_database.models import MemeEntry\n",
    "\n",
    "from sqlalchemy import create_engine, select\n",
    "import json\n",
    "\n",
    "# Create a new SQLAlchemy engine using the connection string\n",
    "engine = create_engine(connection_string)\n",
    "\n",
    "# Get all MemeEntry objects from the database\n",
    "with Session(engine) as session:\n",
    "    with open(\"openaiembeddings.jsonl\", \"r\") as file:\n",
    "        for line in file:\n",
    "            meme_embedding = json.loads(line)\n",
    "            meme:MemeEntry = session.execute(select(MemeEntry).where(MemeEntry.id == meme_embedding[\"custom_id\"])).scalar()\n",
    "            meme.content_embedding = meme_embedding['response'][\"body\"][\"data\"][0]['embedding']\n",
    "            \n",
    "            session.add(meme)\n",
    "        session.commit()\n",
    "        "
   ],
   "metadata": {
    "collapsed": false,
    "ExecuteTime": {
     "end_time": "2024-05-01T20:29:00.715908Z",
     "start_time": "2024-05-01T20:19:33.247408Z"
    }
   },
   "id": "376b55ef8d884ef"
  },
  {
   "cell_type": "code",
   "execution_count": null,
   "outputs": [],
   "source": [],
   "metadata": {
    "collapsed": false
   },
   "id": "73269a41cdf54181"
  }
 ],
 "metadata": {
  "kernelspec": {
   "display_name": "Python 3",
   "language": "python",
   "name": "python3"
  },
  "language_info": {
   "codemirror_mode": {
    "name": "ipython",
    "version": 2
   },
   "file_extension": ".py",
   "mimetype": "text/x-python",
   "name": "python",
   "nbconvert_exporter": "python",
   "pygments_lexer": "ipython2",
   "version": "2.7.6"
  }
 },
 "nbformat": 4,
 "nbformat_minor": 5
}
